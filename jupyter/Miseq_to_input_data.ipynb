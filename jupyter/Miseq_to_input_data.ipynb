{
 "cells": [
  {
   "cell_type": "markdown",
   "metadata": {},
   "source": [
    "### データ読み込み、配列数確認\n",
    "### python3"
   ]
  },
  {
   "cell_type": "code",
   "execution_count": 46,
   "metadata": {},
   "outputs": [
    {
     "name": "stdout",
     "output_type": "stream",
     "text": [
      "in  R1:680176, R2:680176\n",
      "out-> -> R1:1950083, R2:1950083\n"
     ]
    }
   ],
   "source": [
    "import csv\n",
    "\n",
    "class Count_read:\n",
    "    def __init__(self):\n",
    "        self.seq = []\n",
    "    \n",
    "    def make_dic(self, lines=None):\n",
    "        ks = ['name', 'sequence', 'optional', 'quality']\n",
    "        return {k: v for k, v in zip(ks, lines)}\n",
    "    \n",
    "    def extract_sequences(self, file=None):\n",
    "        n = 4\n",
    "        with open(file, 'r') as fh:\n",
    "            lines = []\n",
    "            for line in fh:\n",
    "                lines.append(line.rstrip())\n",
    "                if len(lines) == n:\n",
    "                    record = self.make_dic(lines)\n",
    "        self.seq = []\n",
    "        for i in range(len(lines)):\n",
    "            if i%4 == 1:\n",
    "                self.seq.append(lines[i])\n",
    "        return self.seq\n",
    "    \n",
    "in_R1_seq = Count_read().extract_sequences(\"../raw_data/200714/in_S1_L001_R1_001.fastq\")\n",
    "in_R2_seq = Count_read().extract_sequences(\"../raw_data/200714/in_S1_L001_R2_001.fastq\")\n",
    "\n",
    "out_R1_seq = Count_read().extract_sequences(\"../raw_data/200714/out_S2_L001_R1_001.fastq\")\n",
    "out_R2_seq = Count_read().extract_sequences(\"../raw_data/200714/out_S2_L001_R2_001.fastq\")\n",
    "\n",
    "    \n",
    "        \n",
    "print(\"in  R1:{}, R2:{}\".format(len(in_R1_seq),len(in_R2_seq)))\n",
    "print(\"out-> -> R1:{}, R2:{}\".format(len(out_R1_seq),len(out_R2_seq)))"
   ]
  },
  {
   "cell_type": "markdown",
   "metadata": {},
   "source": [
    "### R2を相補鎖に"
   ]
  },
  {
   "cell_type": "code",
   "execution_count": 47,
   "metadata": {},
   "outputs": [
    {
     "name": "stdout",
     "output_type": "stream",
     "text": [
      "in -> R2:680176\n",
      "out -> R2:1950083\n"
     ]
    }
   ],
   "source": [
    "def reverse(seq):\n",
    "    cmp_R2 = []\n",
    "    for i in range(len(seq)):\n",
    "        R2_reverse = seq[i][::-1]\n",
    "        R2_complement = R2_reverse.translate(str.maketrans({'A':'T','T':'A','G':'C','C':'G'}))\n",
    "        cmp_R2.append(R2_complement)\n",
    "    return cmp_R2\n",
    "\n",
    "in_R2_cmp = reverse(in_R2_seq)\n",
    "out_R2_cmp = reverse(out_R2_seq)\n",
    "\n",
    "print(\"in -> R2:{}\".format(len(in_R2_cmp)))\n",
    "print(\"out -> R2:{}\".format(len(out_R2_cmp)))"
   ]
  },
  {
   "cell_type": "markdown",
   "metadata": {},
   "source": [
    "### RBSの抜き出し\n",
    "#### R1とR2が一致すれば保存"
   ]
  },
  {
   "cell_type": "code",
   "execution_count": 48,
   "metadata": {},
   "outputs": [
    {
     "name": "stdout",
     "output_type": "stream",
     "text": [
      "in -> RBSの総数: 520577\n",
      "out -> RBSの総数: 1497214\n"
     ]
    }
   ],
   "source": [
    "def count_RBS(R1, R2):\n",
    "    b = 'ATTAAAG' # RBS前の配列\n",
    "    RBS = []\n",
    "    for i in range(len(R1)):\n",
    "        R1_index = R1[i].find(b)\n",
    "        R1_RBS = R1[i][(R1_index+len(b)):(R1_index+len(b))+7]\n",
    "\n",
    "        R2_index = R2[i].find(b)\n",
    "        R2_RBS = R2[i][(R2_index+len(b)):(R2_index+len(b))+7]\n",
    "\n",
    "        if R1_RBS == R2_RBS:\n",
    "            RBS.append(R1_RBS)\n",
    "    return RBS\n",
    "\n",
    "in_RBS = count_RBS(in_R1_seq, in_R2_cmp)\n",
    "out_RBS = count_RBS(out_R1_seq, out_R2_cmp)\n",
    "\n",
    "print(\"in -> RBSの総数:\", len(in_RBS))\n",
    "print(\"out -> RBSの総数:\", len(out_RBS))"
   ]
  },
  {
   "cell_type": "markdown",
   "metadata": {},
   "source": [
    "### ファイルに出力"
   ]
  },
  {
   "cell_type": "markdown",
   "metadata": {},
   "source": [
    "### output >= 100、0 <= translation rate <= 4"
   ]
  },
  {
   "cell_type": "code",
   "execution_count": 49,
   "metadata": {},
   "outputs": [],
   "source": [
    "import math\n",
    "import collections\n",
    "from scipy import stats\n",
    "\n",
    "c1 = collections.Counter(in_RBS)\n",
    "c2 = collections.Counter(out_RBS)\n",
    "\n",
    "sort_c1 = sorted(c1.items()) # in\n",
    "sort_c2 = sorted(c2.items()) # out\n",
    "\n",
    "def _ave(num):\n",
    "    if 0<=num<=5:\n",
    "        num = 2.5\n",
    "    elif 6<=num<=10:\n",
    "        num = 8\n",
    "    elif 11<=num<=15:\n",
    "        num = 13\n",
    "    elif 16<=num<=20:\n",
    "        num = 18\n",
    "    elif 21<=num<=40:\n",
    "        num = 30.5\n",
    "    elif 41<=num<=60:\n",
    "        num = 50.5\n",
    "    elif 61<=num<=80:\n",
    "        num = 70.5\n",
    "    elif 81<=num<=100:\n",
    "        num = 90.5\n",
    "    elif 101<=num<=120:\n",
    "        num = 110.5\n",
    "    elif 121<=num<=150:\n",
    "        num = 135.5\n",
    "    elif 151<=num<=190:\n",
    "        num = 170.5\n",
    "    elif 191<=num<=230:\n",
    "        num = 210.5\n",
    "    elif 231<=num<=270:\n",
    "        num = 250.5\n",
    "    elif 271<=num<=300:\n",
    "        num = 285.5\n",
    "    elif 301<=num<=360:\n",
    "        num = 330.5\n",
    "    elif 361<=num<=400:\n",
    "        num = 380.5\n",
    "    elif 401<=num<=450:\n",
    "        num = 425.5\n",
    "    elif 451<=num<=530:\n",
    "        num = 490.5\n",
    "    elif 531<=num<=600:\n",
    "        num = 565.5\n",
    "    elif 601<=num<=700:\n",
    "        num = 650.5\n",
    "    elif 701<=num<=800:\n",
    "        num = 750.5\n",
    "    else:\n",
    "        num = num\n",
    "    return num\n",
    "\n",
    "e = []\n",
    "with open('../input/train.csv','w', newline='') as f:\n",
    "    writer = csv.writer(f)\n",
    "    writer.writerow(['seq','in','out','translation_rate'])\n",
    "    for i in range(len(sort_c2)):\n",
    "        if sort_c2[i][1] >= 100:\n",
    "            out_num = _ave(sort_c2[i][1])\n",
    "            if sort_c2[i][0] in c1:\n",
    "                in_num = _ave(c1[sort_c2[i][0]])\n",
    "            else:\n",
    "                in_num = _ave(0)\n",
    "            translation_rate = math.log2(out_num / in_num)\n",
    "            if 0 <= translation_rate <= 4:\n",
    "                e.append(translation_rate)\n",
    "                writer.writerow([sort_c2[i][0], in_num, out_num, translation_rate])"
   ]
  },
  {
   "cell_type": "code",
   "execution_count": 50,
   "metadata": {},
   "outputs": [
    {
     "data": {
      "text/html": [
       "<div>\n",
       "<style scoped>\n",
       "    .dataframe tbody tr th:only-of-type {\n",
       "        vertical-align: middle;\n",
       "    }\n",
       "\n",
       "    .dataframe tbody tr th {\n",
       "        vertical-align: top;\n",
       "    }\n",
       "\n",
       "    .dataframe thead th {\n",
       "        text-align: right;\n",
       "    }\n",
       "</style>\n",
       "<table border=\"1\" class=\"dataframe\">\n",
       "  <thead>\n",
       "    <tr style=\"text-align: right;\">\n",
       "      <th></th>\n",
       "      <th>seq</th>\n",
       "      <th>in</th>\n",
       "      <th>out</th>\n",
       "      <th>translation_rate</th>\n",
       "    </tr>\n",
       "  </thead>\n",
       "  <tbody>\n",
       "    <tr>\n",
       "      <th>0</th>\n",
       "      <td>AAAAAGA</td>\n",
       "      <td>110.5</td>\n",
       "      <td>330.5</td>\n",
       "      <td>1.580604</td>\n",
       "    </tr>\n",
       "    <tr>\n",
       "      <th>1</th>\n",
       "      <td>AAAACAC</td>\n",
       "      <td>170.5</td>\n",
       "      <td>330.5</td>\n",
       "      <td>0.954879</td>\n",
       "    </tr>\n",
       "    <tr>\n",
       "      <th>2</th>\n",
       "      <td>AAAACTG</td>\n",
       "      <td>70.5</td>\n",
       "      <td>425.5</td>\n",
       "      <td>2.593464</td>\n",
       "    </tr>\n",
       "    <tr>\n",
       "      <th>3</th>\n",
       "      <td>AAAACTT</td>\n",
       "      <td>110.5</td>\n",
       "      <td>110.5</td>\n",
       "      <td>0.000000</td>\n",
       "    </tr>\n",
       "    <tr>\n",
       "      <th>4</th>\n",
       "      <td>AAAAGGT</td>\n",
       "      <td>210.5</td>\n",
       "      <td>1331.0</td>\n",
       "      <td>2.660618</td>\n",
       "    </tr>\n",
       "    <tr>\n",
       "      <th>...</th>\n",
       "      <td>...</td>\n",
       "      <td>...</td>\n",
       "      <td>...</td>\n",
       "      <td>...</td>\n",
       "    </tr>\n",
       "    <tr>\n",
       "      <th>1639</th>\n",
       "      <td>TTTTGTG</td>\n",
       "      <td>285.5</td>\n",
       "      <td>1829.0</td>\n",
       "      <td>2.679492</td>\n",
       "    </tr>\n",
       "    <tr>\n",
       "      <th>1640</th>\n",
       "      <td>TTTTTCA</td>\n",
       "      <td>250.5</td>\n",
       "      <td>330.5</td>\n",
       "      <td>0.399840</td>\n",
       "    </tr>\n",
       "    <tr>\n",
       "      <th>1641</th>\n",
       "      <td>TTTTTGT</td>\n",
       "      <td>210.5</td>\n",
       "      <td>210.5</td>\n",
       "      <td>0.000000</td>\n",
       "    </tr>\n",
       "    <tr>\n",
       "      <th>1642</th>\n",
       "      <td>TTTTTTA</td>\n",
       "      <td>330.5</td>\n",
       "      <td>425.5</td>\n",
       "      <td>0.364509</td>\n",
       "    </tr>\n",
       "    <tr>\n",
       "      <th>1643</th>\n",
       "      <td>TTTTTTC</td>\n",
       "      <td>135.5</td>\n",
       "      <td>135.5</td>\n",
       "      <td>0.000000</td>\n",
       "    </tr>\n",
       "  </tbody>\n",
       "</table>\n",
       "<p>1644 rows × 4 columns</p>\n",
       "</div>"
      ],
      "text/plain": [
       "          seq     in     out  translation_rate\n",
       "0     AAAAAGA  110.5   330.5          1.580604\n",
       "1     AAAACAC  170.5   330.5          0.954879\n",
       "2     AAAACTG   70.5   425.5          2.593464\n",
       "3     AAAACTT  110.5   110.5          0.000000\n",
       "4     AAAAGGT  210.5  1331.0          2.660618\n",
       "...       ...    ...     ...               ...\n",
       "1639  TTTTGTG  285.5  1829.0          2.679492\n",
       "1640  TTTTTCA  250.5   330.5          0.399840\n",
       "1641  TTTTTGT  210.5   210.5          0.000000\n",
       "1642  TTTTTTA  330.5   425.5          0.364509\n",
       "1643  TTTTTTC  135.5   135.5          0.000000\n",
       "\n",
       "[1644 rows x 4 columns]"
      ]
     },
     "execution_count": 50,
     "metadata": {},
     "output_type": "execute_result"
    }
   ],
   "source": [
    "#データの確認\n",
    "import pandas as pd\n",
    "train = pd.read_csv('../input/train.csv')\n",
    "train"
   ]
  },
  {
   "cell_type": "code",
   "execution_count": 51,
   "metadata": {},
   "outputs": [
    {
     "data": {
      "text/plain": [
       "['AGTAAGG', 'AGGACGA', 'TAATTGG', 'AGGGTTG', 'TTAGGTG', 'AAGCCGG', 'TTGTAAG']"
      ]
     },
     "execution_count": 51,
     "metadata": {},
     "output_type": "execute_result"
    }
   ],
   "source": [
    "#翻訳効率が高い7配列を取り出す\n",
    "high_seq = train.sort_values('translation_rate',ascending=False).reset_index()[1:8]\n",
    "basic_seq = list(high_seq['seq'])\n",
    "basic_seq"
   ]
  },
  {
   "cell_type": "code",
   "execution_count": 52,
   "metadata": {},
   "outputs": [
    {
     "data": {
      "text/html": [
       "<div>\n",
       "<style scoped>\n",
       "    .dataframe tbody tr th:only-of-type {\n",
       "        vertical-align: middle;\n",
       "    }\n",
       "\n",
       "    .dataframe tbody tr th {\n",
       "        vertical-align: top;\n",
       "    }\n",
       "\n",
       "    .dataframe thead th {\n",
       "        text-align: right;\n",
       "    }\n",
       "</style>\n",
       "<table border=\"1\" class=\"dataframe\">\n",
       "  <thead>\n",
       "    <tr style=\"text-align: right;\">\n",
       "      <th></th>\n",
       "      <th>seq</th>\n",
       "      <th>in</th>\n",
       "      <th>out</th>\n",
       "      <th>translation_rate</th>\n",
       "      <th>AGTAAGG</th>\n",
       "      <th>AGGACGA</th>\n",
       "      <th>TAATTGG</th>\n",
       "      <th>AGGGTTG</th>\n",
       "      <th>TTAGGTG</th>\n",
       "      <th>AAGCCGG</th>\n",
       "      <th>TTGTAAG</th>\n",
       "    </tr>\n",
       "  </thead>\n",
       "  <tbody>\n",
       "    <tr>\n",
       "      <th>0</th>\n",
       "      <td>AAAAAGA</td>\n",
       "      <td>110.5</td>\n",
       "      <td>330.5</td>\n",
       "      <td>1.580604</td>\n",
       "      <td>AGTAAGG</td>\n",
       "      <td>AGGACGA</td>\n",
       "      <td>TAATTGG</td>\n",
       "      <td>AGGGTTG</td>\n",
       "      <td>TTAGGTG</td>\n",
       "      <td>AAGCCGG</td>\n",
       "      <td>TTGTAAG</td>\n",
       "    </tr>\n",
       "    <tr>\n",
       "      <th>1</th>\n",
       "      <td>AAAACAC</td>\n",
       "      <td>170.5</td>\n",
       "      <td>330.5</td>\n",
       "      <td>0.954879</td>\n",
       "      <td>AGTAAGG</td>\n",
       "      <td>AGGACGA</td>\n",
       "      <td>TAATTGG</td>\n",
       "      <td>AGGGTTG</td>\n",
       "      <td>TTAGGTG</td>\n",
       "      <td>AAGCCGG</td>\n",
       "      <td>TTGTAAG</td>\n",
       "    </tr>\n",
       "    <tr>\n",
       "      <th>2</th>\n",
       "      <td>AAAACTG</td>\n",
       "      <td>70.5</td>\n",
       "      <td>425.5</td>\n",
       "      <td>2.593464</td>\n",
       "      <td>AGTAAGG</td>\n",
       "      <td>AGGACGA</td>\n",
       "      <td>TAATTGG</td>\n",
       "      <td>AGGGTTG</td>\n",
       "      <td>TTAGGTG</td>\n",
       "      <td>AAGCCGG</td>\n",
       "      <td>TTGTAAG</td>\n",
       "    </tr>\n",
       "    <tr>\n",
       "      <th>3</th>\n",
       "      <td>AAAACTT</td>\n",
       "      <td>110.5</td>\n",
       "      <td>110.5</td>\n",
       "      <td>0.000000</td>\n",
       "      <td>AGTAAGG</td>\n",
       "      <td>AGGACGA</td>\n",
       "      <td>TAATTGG</td>\n",
       "      <td>AGGGTTG</td>\n",
       "      <td>TTAGGTG</td>\n",
       "      <td>AAGCCGG</td>\n",
       "      <td>TTGTAAG</td>\n",
       "    </tr>\n",
       "    <tr>\n",
       "      <th>4</th>\n",
       "      <td>AAAAGGT</td>\n",
       "      <td>210.5</td>\n",
       "      <td>1331.0</td>\n",
       "      <td>2.660618</td>\n",
       "      <td>AGTAAGG</td>\n",
       "      <td>AGGACGA</td>\n",
       "      <td>TAATTGG</td>\n",
       "      <td>AGGGTTG</td>\n",
       "      <td>TTAGGTG</td>\n",
       "      <td>AAGCCGG</td>\n",
       "      <td>TTGTAAG</td>\n",
       "    </tr>\n",
       "    <tr>\n",
       "      <th>...</th>\n",
       "      <td>...</td>\n",
       "      <td>...</td>\n",
       "      <td>...</td>\n",
       "      <td>...</td>\n",
       "      <td>...</td>\n",
       "      <td>...</td>\n",
       "      <td>...</td>\n",
       "      <td>...</td>\n",
       "      <td>...</td>\n",
       "      <td>...</td>\n",
       "      <td>...</td>\n",
       "    </tr>\n",
       "    <tr>\n",
       "      <th>1639</th>\n",
       "      <td>TTTTGTG</td>\n",
       "      <td>285.5</td>\n",
       "      <td>1829.0</td>\n",
       "      <td>2.679492</td>\n",
       "      <td>AGTAAGG</td>\n",
       "      <td>AGGACGA</td>\n",
       "      <td>TAATTGG</td>\n",
       "      <td>AGGGTTG</td>\n",
       "      <td>TTAGGTG</td>\n",
       "      <td>AAGCCGG</td>\n",
       "      <td>TTGTAAG</td>\n",
       "    </tr>\n",
       "    <tr>\n",
       "      <th>1640</th>\n",
       "      <td>TTTTTCA</td>\n",
       "      <td>250.5</td>\n",
       "      <td>330.5</td>\n",
       "      <td>0.399840</td>\n",
       "      <td>AGTAAGG</td>\n",
       "      <td>AGGACGA</td>\n",
       "      <td>TAATTGG</td>\n",
       "      <td>AGGGTTG</td>\n",
       "      <td>TTAGGTG</td>\n",
       "      <td>AAGCCGG</td>\n",
       "      <td>TTGTAAG</td>\n",
       "    </tr>\n",
       "    <tr>\n",
       "      <th>1641</th>\n",
       "      <td>TTTTTGT</td>\n",
       "      <td>210.5</td>\n",
       "      <td>210.5</td>\n",
       "      <td>0.000000</td>\n",
       "      <td>AGTAAGG</td>\n",
       "      <td>AGGACGA</td>\n",
       "      <td>TAATTGG</td>\n",
       "      <td>AGGGTTG</td>\n",
       "      <td>TTAGGTG</td>\n",
       "      <td>AAGCCGG</td>\n",
       "      <td>TTGTAAG</td>\n",
       "    </tr>\n",
       "    <tr>\n",
       "      <th>1642</th>\n",
       "      <td>TTTTTTA</td>\n",
       "      <td>330.5</td>\n",
       "      <td>425.5</td>\n",
       "      <td>0.364509</td>\n",
       "      <td>AGTAAGG</td>\n",
       "      <td>AGGACGA</td>\n",
       "      <td>TAATTGG</td>\n",
       "      <td>AGGGTTG</td>\n",
       "      <td>TTAGGTG</td>\n",
       "      <td>AAGCCGG</td>\n",
       "      <td>TTGTAAG</td>\n",
       "    </tr>\n",
       "    <tr>\n",
       "      <th>1643</th>\n",
       "      <td>TTTTTTC</td>\n",
       "      <td>135.5</td>\n",
       "      <td>135.5</td>\n",
       "      <td>0.000000</td>\n",
       "      <td>AGTAAGG</td>\n",
       "      <td>AGGACGA</td>\n",
       "      <td>TAATTGG</td>\n",
       "      <td>AGGGTTG</td>\n",
       "      <td>TTAGGTG</td>\n",
       "      <td>AAGCCGG</td>\n",
       "      <td>TTGTAAG</td>\n",
       "    </tr>\n",
       "  </tbody>\n",
       "</table>\n",
       "<p>1644 rows × 11 columns</p>\n",
       "</div>"
      ],
      "text/plain": [
       "          seq     in     out  translation_rate  AGTAAGG  AGGACGA  TAATTGG  \\\n",
       "0     AAAAAGA  110.5   330.5          1.580604  AGTAAGG  AGGACGA  TAATTGG   \n",
       "1     AAAACAC  170.5   330.5          0.954879  AGTAAGG  AGGACGA  TAATTGG   \n",
       "2     AAAACTG   70.5   425.5          2.593464  AGTAAGG  AGGACGA  TAATTGG   \n",
       "3     AAAACTT  110.5   110.5          0.000000  AGTAAGG  AGGACGA  TAATTGG   \n",
       "4     AAAAGGT  210.5  1331.0          2.660618  AGTAAGG  AGGACGA  TAATTGG   \n",
       "...       ...    ...     ...               ...      ...      ...      ...   \n",
       "1639  TTTTGTG  285.5  1829.0          2.679492  AGTAAGG  AGGACGA  TAATTGG   \n",
       "1640  TTTTTCA  250.5   330.5          0.399840  AGTAAGG  AGGACGA  TAATTGG   \n",
       "1641  TTTTTGT  210.5   210.5          0.000000  AGTAAGG  AGGACGA  TAATTGG   \n",
       "1642  TTTTTTA  330.5   425.5          0.364509  AGTAAGG  AGGACGA  TAATTGG   \n",
       "1643  TTTTTTC  135.5   135.5          0.000000  AGTAAGG  AGGACGA  TAATTGG   \n",
       "\n",
       "      AGGGTTG  TTAGGTG  AAGCCGG  TTGTAAG  \n",
       "0     AGGGTTG  TTAGGTG  AAGCCGG  TTGTAAG  \n",
       "1     AGGGTTG  TTAGGTG  AAGCCGG  TTGTAAG  \n",
       "2     AGGGTTG  TTAGGTG  AAGCCGG  TTGTAAG  \n",
       "3     AGGGTTG  TTAGGTG  AAGCCGG  TTGTAAG  \n",
       "4     AGGGTTG  TTAGGTG  AAGCCGG  TTGTAAG  \n",
       "...       ...      ...      ...      ...  \n",
       "1639  AGGGTTG  TTAGGTG  AAGCCGG  TTGTAAG  \n",
       "1640  AGGGTTG  TTAGGTG  AAGCCGG  TTGTAAG  \n",
       "1641  AGGGTTG  TTAGGTG  AAGCCGG  TTGTAAG  \n",
       "1642  AGGGTTG  TTAGGTG  AAGCCGG  TTGTAAG  \n",
       "1643  AGGGTTG  TTAGGTG  AAGCCGG  TTGTAAG  \n",
       "\n",
       "[1644 rows x 11 columns]"
      ]
     },
     "execution_count": 52,
     "metadata": {},
     "output_type": "execute_result"
    }
   ],
   "source": [
    "for seven_seq in basic_seq:\n",
    "    train[seven_seq] = seven_seq\n",
    "\n",
    "train"
   ]
  },
  {
   "cell_type": "code",
   "execution_count": 53,
   "metadata": {},
   "outputs": [],
   "source": [
    "train.to_csv('../input/train_data2.csv', index=False)"
   ]
  },
  {
   "cell_type": "markdown",
   "metadata": {},
   "source": [
    "### enrichment ヒストグラム"
   ]
  },
  {
   "cell_type": "code",
   "execution_count": 54,
   "metadata": {},
   "outputs": [
    {
     "name": "stdout",
     "output_type": "stream",
     "text": [
      "1644\n",
      "<class 'list'>\n"
     ]
    },
    {
     "data": {
      "image/png": "[encoded data removed]",
      "text/plain": [
       "<Figure size 432x288 with 1 Axes>"
      ]
     },
     "metadata": {
      "needs_background": "light"
     },
     "output_type": "display_data"
    }
   ],
   "source": [
    "print(len(e))\n",
    "print(type(e))\n",
    "\n",
    "# グラフ描画のためmatplotlibのpyplotをインポート\n",
    "import matplotlib.pyplot as plt\n",
    "from scipy import stats\n",
    "\n",
    "# ヒストグラムを描画する\n",
    "plt.hist(e);"
   ]
  },
  {
   "cell_type": "code",
   "execution_count": 55,
   "metadata": {},
   "outputs": [
    {
     "name": "stdout",
     "output_type": "stream",
     "text": [
      "(1644,)\n",
      "<class 'list'>\n",
      "(1644,)\n",
      "<class 'numpy.ndarray'>\n"
     ]
    },
    {
     "data": {
      "image/png": "[encoded data removed]",
      "text/plain": [
       "<Figure size 432x288 with 1 Axes>"
      ]
     },
     "metadata": {
      "needs_background": "light"
     },
     "output_type": "display_data"
    }
   ],
   "source": [
    "from scipy import stats\n",
    "import numpy as np\n",
    "\n",
    "print(np.shape(e))\n",
    "print(type(e))\n",
    "et, lmbda = stats.yeojohnson(e)\n",
    "print(np.shape(et))\n",
    "print(type(et))\n",
    "plt.hist(list(et));"
   ]
  },
  {
   "cell_type": "code",
   "execution_count": null,
   "metadata": {},
   "outputs": [],
   "source": []
  },
  {
   "cell_type": "code",
   "execution_count": null,
   "metadata": {},
   "outputs": [],
   "source": []
  }
 ],
 "metadata": {
  "kernelspec": {
   "display_name": "Python 3",
   "language": "python",
   "name": "python3"
  },
  "language_info": {
   "codemirror_mode": {
    "name": "ipython",
    "version": 3
   },
   "file_extension": ".py",
   "mimetype": "text/x-python",
   "name": "python",
   "nbconvert_exporter": "python",
   "pygments_lexer": "ipython3",
   "version": "3.8.10"
  }
 },
 "nbformat": 4,
 "nbformat_minor": 2
}
